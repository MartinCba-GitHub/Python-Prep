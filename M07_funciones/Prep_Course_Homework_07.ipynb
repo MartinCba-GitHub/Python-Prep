{
 "cells": [
  {
   "attachments": {},
   "cell_type": "markdown",
   "metadata": {},
   "source": [
    "## Funciones"
   ]
  },
  {
   "attachments": {},
   "cell_type": "markdown",
   "metadata": {},
   "source": [
    "1) Crear una función que reciba un número como parámetro y devuelva True si es primo y False si no lo es"
   ]
  },
  {
   "cell_type": "code",
   "execution_count": 35,
   "metadata": {},
   "outputs": [],
   "source": [
    "def number_primo (num):\n",
    "    primo = True\n",
    "    for i in range(2, num):\n",
    "        if num % i == 0:\n",
    "            primo = False\n",
    "            #print(f'el numero {num} no es primo')\n",
    "            break\n",
    "        return primo #print(f\"el numero {num} es primo\")"
   ]
  },
  {
   "cell_type": "code",
   "execution_count": 36,
   "metadata": {},
   "outputs": [
    {
     "data": {
      "text/plain": [
       "True"
      ]
     },
     "execution_count": 36,
     "metadata": {},
     "output_type": "execute_result"
    }
   ],
   "source": [
    "number_primo(7)"
   ]
  },
  {
   "attachments": {},
   "cell_type": "markdown",
   "metadata": {},
   "source": [
    "2) Utilizando la función del punto 1, realizar otra función que reciba de parámetro una lista de números y devuelva sólo aquellos que son primos en otra lista"
   ]
  },
  {
   "cell_type": "code",
   "execution_count": 37,
   "metadata": {},
   "outputs": [],
   "source": [
    "def Extraccion_NsPrimos(lista):\n",
    "    lista_primos = []\n",
    "    for elemento in lista:\n",
    "        if number_primo(elemento):\n",
    "            lista_primos.append(elemento)\n",
    "    return lista_primos"
   ]
  },
  {
   "cell_type": "code",
   "execution_count": 38,
   "metadata": {},
   "outputs": [
    {
     "data": {
      "text/plain": [
       "[3, 5, 7, 9, 11, 13, 15, 17, 19]"
      ]
     },
     "execution_count": 38,
     "metadata": {},
     "output_type": "execute_result"
    }
   ],
   "source": [
    "lista_numeros = list(range(1, 21))\n",
    "Extraccion_NsPrimos(lista_numeros)"
   ]
  },
  {
   "attachments": {},
   "cell_type": "markdown",
   "metadata": {},
   "source": [
    "3) Crear una función que al recibir una lista de números, devuelva el que más se repite y cuántas veces lo hace. Si hay más de un \"más repetido\", que devuelva cualquiera"
   ]
  },
  {
   "cell_type": "code",
   "execution_count": 1,
   "metadata": {},
   "outputs": [
    {
     "name": "stdout",
     "output_type": "stream",
     "text": [
      "Collecting collectionNote: you may need to restart the kernel to use updated packages.\n",
      "\n",
      "  Downloading collection-0.1.6.tar.gz (5.0 kB)\n",
      "  Installing build dependencies: started\n",
      "  Installing build dependencies: finished with status 'done'\n",
      "  Getting requirements to build wheel: started\n",
      "  Getting requirements to build wheel: finished with status 'done'\n",
      "  Preparing metadata (pyproject.toml): started\n",
      "  Preparing metadata (pyproject.toml): finished with status 'done'\n",
      "Building wheels for collected packages: collection\n",
      "  Building wheel for collection (pyproject.toml): started\n",
      "  Building wheel for collection (pyproject.toml): finished with status 'done'\n",
      "  Created wheel for collection: filename=collection-0.1.6-py3-none-any.whl size=5111 sha256=f000941c60a5a31b0ad2e55218d143f7cbd0c465f27a53280be74b171ba2d1fc\n",
      "  Stored in directory: c:\\users\\martin\\appdata\\local\\pip\\cache\\wheels\\1c\\b3\\7a\\6dd2fd1aa32817819c8c91da9a6b5919148da6eb5855ab0986\n",
      "Successfully built collection\n",
      "Installing collected packages: collection\n",
      "Successfully installed collection-0.1.6\n"
     ]
    }
   ],
   "source": [
    "pip install collection"
   ]
  },
  {
   "cell_type": "code",
   "execution_count": 7,
   "metadata": {},
   "outputs": [
    {
     "data": {
      "text/plain": [
       "Counter({'a': 3, 'c': 2, 'b': 1})"
      ]
     },
     "execution_count": 7,
     "metadata": {},
     "output_type": "execute_result"
    }
   ],
   "source": [
    "from collections import Counter\n",
    "lista_pruebas = ['a', 'a', 'a', 'b', 'c', 'c']\n",
    "dicc_prueba = Counter(lista_pruebas)\n",
    "dicc_prueba"
   ]
  },
  {
   "cell_type": "code",
   "execution_count": 12,
   "metadata": {},
   "outputs": [],
   "source": [
    "def calcular_moda(lista):\n",
    "    conteo = Counter(lista)\n",
    "    llave = max(conteo, key = conteo.get)\n",
    "    valor = conteo[llave]\n",
    "\n",
    "    return llave, valor"
   ]
  },
  {
   "cell_type": "code",
   "execution_count": 14,
   "metadata": {},
   "outputs": [
    {
     "name": "stdout",
     "output_type": "stream",
     "text": [
      "El numero 5 se repite 3 veces\n"
     ]
    }
   ],
   "source": [
    "lista_numeros = [1, 1, 5, 6, 8, 10, 22, 5, 6, 4, 11, 9, 5]\n",
    "numero, repeticiones = calcular_moda(lista_numeros)\n",
    "print(f\"El numero {numero} se repite {repeticiones} veces\")"
   ]
  },
  {
   "attachments": {},
   "cell_type": "markdown",
   "metadata": {},
   "source": [
    "4) Crear una función que convierta entre grados Celsius, Farenheit y Kelvin<br>\n",
    "Fórmula 1\t: (°C × 9/5) + 32 = °F<br>\n",
    "Fórmula 2\t: °C + 273.15 = °K<br>\n",
    "Debe recibir 3 parámetros: el valor, la medida de orígen y la medida de destino\n"
   ]
  },
  {
   "cell_type": "markdown",
   "metadata": {},
   "source": [
    "Farenheit a Celcius:\n",
    "    (c * 9/5) + 32 = f\n",
    "    c * 9/5 = f - 32\n",
    "    c = (f - 32) * 5/9\n",
    "\n",
    "Farenheit a Kelvin\n",
    "    c + 273.15 = k\n",
    "    c = k - 273.15\n",
    "    c = c\n",
    "    (f - 32) * 5/9 = k - 273.15\n",
    "    ((f * 32) * 5/9) + 273.15 = k\n",
    "\n",
    "Kelvin a Farenheit\n",
    "    (f- 32) * 5/9 = k - 273.15\n",
    "    f - 32 = (k - 273.15) * 9/5\n",
    "    f = ((k - 273.15) * 9/5) + 35"
   ]
  },
  {
   "cell_type": "code",
   "execution_count": 25,
   "metadata": {},
   "outputs": [],
   "source": [
    "def convertir_grados(valor, origen, destino):\n",
    "    if origen == \"celcius\":\n",
    "        if destino == \"celcius\":\n",
    "            valor_destino = valor\n",
    "        elif destino == \"farenheit\":\n",
    "            valor_destino = (valor * 9/5) + 32\n",
    "        elif destino == \"kelvin\":\n",
    "            valor_destino = valor + 273.15\n",
    "        else:\n",
    "            print('Debe pasar un destino correcto')\n",
    "\n",
    "    elif origen == \"farenheit\":\n",
    "        if destino == \"celcius\":\n",
    "            valor_destino = (valor - 32) * 5/9\n",
    "        elif destino == \"farenheit\":\n",
    "            valor_destino = valor\n",
    "        elif destino == \"kelvin\":\n",
    "            valor_destino = ((valor - 32) * 5/9) + 273.15\n",
    "        else:\n",
    "            print('Debe pasar un destino correcto')\n",
    "            \n",
    "    elif origen == \"kelvin\":\n",
    "        if destino == \"celcius\":\n",
    "            valor_destino = valor - 273.15\n",
    "        elif destino == \"farenheit\":\n",
    "            valor_destino = ((valor - 273.15) * 9/5) + 32\n",
    "        elif destino == \"kelvin\":\n",
    "            valor_destino = valor\n",
    "        else:\n",
    "            print('Debe pasar un destino correcto')\n",
    "\n",
    "    else:\n",
    "        print('Debe pasar un origen correcto')\n",
    "\n",
    "    return valor_destino"
   ]
  },
  {
   "cell_type": "code",
   "execution_count": 5,
   "metadata": {},
   "outputs": [
    {
     "data": {
      "text/plain": [
       "37.4"
      ]
     },
     "execution_count": 5,
     "metadata": {},
     "output_type": "execute_result"
    }
   ],
   "source": [
    "convertir_grados(3, \"celcius\", \"farenheit\")"
   ]
  },
  {
   "attachments": {},
   "cell_type": "markdown",
   "metadata": {},
   "source": [
    "5) Iterando una lista con los tres valores posibles de temperatura que recibe la función del punto 5, hacer un print para cada combinación de los mismos:"
   ]
  },
  {
   "cell_type": "code",
   "execution_count": 26,
   "metadata": {},
   "outputs": [
    {
     "name": "stdout",
     "output_type": "stream",
     "text": [
      "1 grado celcius, a celcius es igual a 1\n",
      "1 grado celcius, a kelvin es igual a 274.15\n",
      "Debe pasar un destino correcto\n"
     ]
    },
    {
     "ename": "UnboundLocalError",
     "evalue": "cannot access local variable 'valor_destino' where it is not associated with a value",
     "output_type": "error",
     "traceback": [
      "\u001b[1;31m---------------------------------------------------------------------------\u001b[0m",
      "\u001b[1;31mUnboundLocalError\u001b[0m                         Traceback (most recent call last)",
      "Cell \u001b[1;32mIn[26], line 4\u001b[0m\n\u001b[0;32m      2\u001b[0m \u001b[38;5;28;01mfor\u001b[39;00m indice_origen \u001b[38;5;129;01min\u001b[39;00m \u001b[38;5;28mrange\u001b[39m(\u001b[38;5;28mlen\u001b[39m(metricas)):\n\u001b[0;32m      3\u001b[0m     \u001b[38;5;28;01mfor\u001b[39;00m indice_destino \u001b[38;5;129;01min\u001b[39;00m \u001b[38;5;28mrange\u001b[39m(\u001b[38;5;28mlen\u001b[39m(metricas)):\n\u001b[1;32m----> 4\u001b[0m         valor_final \u001b[38;5;241m=\u001b[39m \u001b[43mconvertir_grados\u001b[49m\u001b[43m(\u001b[49m\u001b[38;5;241;43m1\u001b[39;49m\u001b[43m,\u001b[49m\u001b[43m \u001b[49m\u001b[43mmetricas\u001b[49m\u001b[43m[\u001b[49m\u001b[43mindice_origen\u001b[49m\u001b[43m]\u001b[49m\u001b[43m,\u001b[49m\u001b[43m \u001b[49m\u001b[43mmetricas\u001b[49m\u001b[43m[\u001b[49m\u001b[43mindice_destino\u001b[49m\u001b[43m]\u001b[49m\u001b[43m)\u001b[49m\n\u001b[0;32m      5\u001b[0m         \u001b[38;5;28mprint\u001b[39m(\u001b[38;5;124mf\u001b[39m\u001b[38;5;124m\"\u001b[39m\u001b[38;5;124m1 grado \u001b[39m\u001b[38;5;132;01m{\u001b[39;00mmetricas[indice_origen]\u001b[38;5;132;01m}\u001b[39;00m\u001b[38;5;124m, a \u001b[39m\u001b[38;5;132;01m{\u001b[39;00mmetricas[indice_destino]\u001b[38;5;132;01m}\u001b[39;00m\u001b[38;5;124m es igual a \u001b[39m\u001b[38;5;132;01m{\u001b[39;00mvalor_final\u001b[38;5;132;01m}\u001b[39;00m\u001b[38;5;124m\"\u001b[39m)\n",
      "Cell \u001b[1;32mIn[25], line 35\u001b[0m, in \u001b[0;36mconvertir_grados\u001b[1;34m(valor, origen, destino)\u001b[0m\n\u001b[0;32m     32\u001b[0m \u001b[38;5;28;01melse\u001b[39;00m:\n\u001b[0;32m     33\u001b[0m     \u001b[38;5;28mprint\u001b[39m(\u001b[38;5;124m'\u001b[39m\u001b[38;5;124mDebe pasar un origen correcto\u001b[39m\u001b[38;5;124m'\u001b[39m)\n\u001b[1;32m---> 35\u001b[0m \u001b[38;5;28;01mreturn\u001b[39;00m \u001b[43mvalor_destino\u001b[49m\n",
      "\u001b[1;31mUnboundLocalError\u001b[0m: cannot access local variable 'valor_destino' where it is not associated with a value"
     ]
    }
   ],
   "source": [
    "metricas = ['celcius', 'kelvin', 'farinheit']\n",
    "for indice_origen in range(len(metricas)):\n",
    "    for indice_destino in range(len(metricas)):\n",
    "        valor_final = convertir_grados(1, metricas[indice_origen], metricas[indice_destino])\n",
    "        print(f\"1 grado {metricas[indice_origen]}, a {metricas[indice_destino]} es igual a {valor_final}\")\n"
   ]
  },
  {
   "attachments": {},
   "cell_type": "markdown",
   "metadata": {},
   "source": [
    "6) Armar una función que devuelva el factorial de un número. Tener en cuenta que el usuario puede equivocarse y enviar de parámetro un número no entero o negativo"
   ]
  },
  {
   "cell_type": "code",
   "execution_count": 27,
   "metadata": {},
   "outputs": [],
   "source": [
    "def calcular_factorial(numero):\n",
    "    if type(numero) != int:\n",
    "        return print('El numero debe ser un entero')\n",
    "    if numero < 0:\n",
    "        return print('El numero debe ser positivo')\n",
    "\n",
    "    if numero == 0:\n",
    "        return 1\n",
    "    \n",
    "    numero = numero * calcular_factorial(numero - 1)\n",
    "\n",
    "    return numero"
   ]
  },
  {
   "cell_type": "code",
   "execution_count": 34,
   "metadata": {},
   "outputs": [
    {
     "data": {
      "text/plain": [
       "2"
      ]
     },
     "execution_count": 34,
     "metadata": {},
     "output_type": "execute_result"
    }
   ],
   "source": [
    "calcular_factorial(2)"
   ]
  }
 ],
 "metadata": {
  "kernelspec": {
   "display_name": "Python 3.11.8 64-bit",
   "language": "python",
   "name": "python3"
  },
  "language_info": {
   "codemirror_mode": {
    "name": "ipython",
    "version": 3
   },
   "file_extension": ".py",
   "mimetype": "text/x-python",
   "name": "python",
   "nbconvert_exporter": "python",
   "pygments_lexer": "ipython3",
   "version": "3.11.8"
  },
  "vscode": {
   "interpreter": {
    "hash": "cde823daa362eef15ead0a0eae5429e5dd4c5c8fd52f568fcadebfec2887da44"
   }
  }
 },
 "nbformat": 4,
 "nbformat_minor": 4
}
